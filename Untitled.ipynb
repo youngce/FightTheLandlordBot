{
 "cells": [
  {
   "cell_type": "code",
   "execution_count": 8,
   "metadata": {},
   "outputs": [
    {
     "name": "stdout",
     "output_type": "stream",
     "text": [
      "2736 3648 120\n"
     ]
    },
    {
     "data": {
      "text/plain": [
       "array([[[ 57,  67,  85],\n",
       "        [ 58,  68,  86],\n",
       "        [ 58,  67,  87],\n",
       "        ...,\n",
       "        [ 90,  96, 115],\n",
       "        [ 88,  97, 111],\n",
       "        [ 88,  97, 111]],\n",
       "\n",
       "       [[ 56,  66,  84],\n",
       "        [ 57,  67,  85],\n",
       "        [ 57,  66,  86],\n",
       "        ...,\n",
       "        [ 91,  98, 115],\n",
       "        [ 89,  98, 111],\n",
       "        [ 89,  98, 111]],\n",
       "\n",
       "       [[ 56,  66,  83],\n",
       "        [ 56,  66,  83],\n",
       "        [ 56,  66,  84],\n",
       "        ...,\n",
       "        [ 91,  98, 115],\n",
       "        [ 87,  99, 111],\n",
       "        [ 88, 100, 112]],\n",
       "\n",
       "       ...,\n",
       "\n",
       "       [[ 70,  75,  90],\n",
       "        [ 70,  75,  90],\n",
       "        [ 70,  75,  90],\n",
       "        ...,\n",
       "        [  6,   9,  17],\n",
       "        [  6,   9,  17],\n",
       "        [  6,   9,  17]],\n",
       "\n",
       "       [[ 69,  77,  90],\n",
       "        [ 69,  77,  90],\n",
       "        [ 70,  76,  89],\n",
       "        ...,\n",
       "        [  5,   9,  14],\n",
       "        [  5,   9,  14],\n",
       "        [  5,   9,  14]],\n",
       "\n",
       "       [[ 69,  79,  89],\n",
       "        [ 69,  79,  89],\n",
       "        [ 70,  78,  91],\n",
       "        ...,\n",
       "        [  4,   7,  12],\n",
       "        [  4,   8,  13],\n",
       "        [  5,   9,  14]]], dtype=uint8)"
      ]
     },
     "execution_count": 8,
     "metadata": {},
     "output_type": "execute_result"
    }
   ],
   "source": [
    "import cv2\n",
    "import numpy as np\n",
    "from matplotlib import pyplot as plt\n",
    "img = cv2.imread(\"../../Downloads/AcetoFive.JPG\")\n",
    "\n",
    "# img = cv2.imread(\"../../Downloads/20131030153346984.jpg\")\n",
    "# text = pytesseract.image_to_string(im)\n",
    "gray = cv2.cvtColor(img, cv2.COLOR_BGR2GRAY)\n",
    "blur = cv2.GaussianBlur(gray, (5, 5), 0)\n",
    "img_w, img_h = np.shape(img)[:2]\n",
    "bkg_level = gray[int(img_h / 100)][int(img_w / 2)]\n",
    "thresh_level = bkg_level + 60\n",
    "print(img_w,img_h,thresh_level)\n",
    "ret, binary = cv2.threshold(blur, thresh_level, 255, cv2.THRESH_BINARY)\n",
    "\n",
    "cnts, hier = cv2.findContours(binary, cv2.RETR_TREE, cv2.CHAIN_APPROX_SIMPLE)\n",
    "cv2.drawContours(binary, cnts, -1, (0, 0, 255), 3)\n"
   ]
  },
  {
   "cell_type": "code",
   "execution_count": 10,
   "metadata": {},
   "outputs": [
    {
     "data": {
      "image/png": "[encoded data removed]",
      "text/plain": [
       "<Figure size 432x288 with 1 Axes>"
      ]
     },
     "metadata": {
      "needs_background": "light"
     },
     "output_type": "display_data"
    }
   ],
   "source": [
    "plt.imshow(binary)\n",
    "plt.show()"
   ]
  },
  {
   "cell_type": "code",
   "execution_count": 13,
   "metadata": {},
   "outputs": [],
   "source": [
    "capture = cv2.VideoCapture(0)\n",
    "\n",
    "ret, frame = capture.read()\n"
   ]
  },
  {
   "cell_type": "code",
   "execution_count": null,
   "metadata": {},
   "outputs": [],
   "source": [
    "cv2.imshow(\"vedio\",frame)\n",
    "plt.show()"
   ]
  },
  {
   "cell_type": "code",
   "execution_count": null,
   "metadata": {},
   "outputs": [],
   "source": []
  }
 ],
 "metadata": {
  "kernelspec": {
   "display_name": "Python 3",
   "language": "python",
   "name": "python3"
  },
  "language_info": {
   "codemirror_mode": {
    "name": "ipython",
    "version": 3
   },
   "file_extension": ".py",
   "mimetype": "text/x-python",
   "name": "python",
   "nbconvert_exporter": "python",
   "pygments_lexer": "ipython3",
   "version": "3.7.5"
  }
 },
 "nbformat": 4,
 "nbformat_minor": 2
}
